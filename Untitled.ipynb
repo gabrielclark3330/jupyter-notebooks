{
 "cells": [
  {
   "cell_type": "code",
   "execution_count": 32,
   "id": "d355fae0",
   "metadata": {},
   "outputs": [
    {
     "data": {
      "text/plain": [
       "[<matplotlib.lines.Line2D at 0x13459ecd0>]"
      ]
     },
     "execution_count": 32,
     "metadata": {},
     "output_type": "execute_result"
    },
    {
     "data": {
      "image/png": "[encoded data removed]",
      "text/plain": [
       "<Figure size 640x480 with 1 Axes>"
      ]
     },
     "metadata": {},
     "output_type": "display_data"
    }
   ],
   "source": [
    "#y^2 = x^3 + ax + b (mod p)\n",
    "import matplotlib.pyplot as plt\n",
    "import math\n",
    "import numpy as np\n",
    "\n",
    "\n",
    "a=2\n",
    "b=3\n",
    "p = 1000\n",
    "def f(x):\n",
    "    return math.sqrt((x**3+a*x+b) % p)\n",
    "\n",
    "x = np.linspace(-5, 5, 400)\n",
    "y = [f(xi) for xi in x]\n",
    "plt.plot(x, y)"
   ]
  },
  {
   "cell_type": "code",
   "execution_count": 17,
   "id": "b3203e4e",
   "metadata": {},
   "outputs": [
    {
     "ename": "ImportError",
     "evalue": "cannot import name 'axes3d' from 'mpl_toolkits' (unknown location)",
     "output_type": "error",
     "traceback": [
      "\u001b[0;31m---------------------------------------------------------------------------\u001b[0m",
      "\u001b[0;31mImportError\u001b[0m                               Traceback (most recent call last)",
      "Input \u001b[0;32mIn [17]\u001b[0m, in \u001b[0;36m<cell line: 3>\u001b[0;34m()\u001b[0m\n\u001b[1;32m      1\u001b[0m \u001b[38;5;28;01mimport\u001b[39;00m \u001b[38;5;21;01mmatplotlib\u001b[39;00m\u001b[38;5;21;01m.\u001b[39;00m\u001b[38;5;21;01mpyplot\u001b[39;00m \u001b[38;5;28;01mas\u001b[39;00m \u001b[38;5;21;01mplt\u001b[39;00m\n\u001b[1;32m      2\u001b[0m \u001b[38;5;28;01mimport\u001b[39;00m \u001b[38;5;21;01mnumpy\u001b[39;00m \u001b[38;5;28;01mas\u001b[39;00m \u001b[38;5;21;01mnp\u001b[39;00m\n\u001b[0;32m----> 3\u001b[0m \u001b[38;5;28;01mfrom\u001b[39;00m \u001b[38;5;21;01mmpl_toolkits\u001b[39;00m \u001b[38;5;28;01mimport\u001b[39;00m mplot3d, axes3d\n\u001b[1;32m      5\u001b[0m n_values \u001b[38;5;241m=\u001b[39m np\u001b[38;5;241m.\u001b[39mlinspace(\u001b[38;5;241m-\u001b[39m\u001b[38;5;241m10\u001b[39m, \u001b[38;5;241m10\u001b[39m, \u001b[38;5;241m100\u001b[39m)\n\u001b[1;32m      6\u001b[0m y_values \u001b[38;5;241m=\u001b[39m np\u001b[38;5;241m.\u001b[39mlinspace(\u001b[38;5;241m-\u001b[39m\u001b[38;5;241m10\u001b[39m, \u001b[38;5;241m10\u001b[39m, \u001b[38;5;241m100\u001b[39m)\n",
      "\u001b[0;31mImportError\u001b[0m: cannot import name 'axes3d' from 'mpl_toolkits' (unknown location)"
     ]
    }
   ],
   "source": [
    "import matplotlib.pyplot as plt\n",
    "import numpy as np\n",
    "from mpl_toolkits import mplot3d, axes3d\n",
    "\n",
    "n_values = np.linspace(-10, 10, 100)\n",
    "y_values = np.linspace(-10, 10, 100)\n",
    "\n",
    "x_values, y_values = np.meshgrid(n_values, y_values)\n",
    "\n",
    "z_values = (x_values**2 + y_values**2)**(1/3)\n",
    "\n",
    "fig = plt.figure()\n",
    "ax = fig.add_subplot(111, projection='3d')\n",
    "ax.plot_surface(x_values, y_values, z_values)\n",
    "plt.show()"
   ]
  },
  {
   "cell_type": "code",
   "execution_count": 18,
   "id": "48c59d2f",
   "metadata": {},
   "outputs": [],
   "source": [
    "# this function should be take a pair of nubmers pubK privK and allow something encrypted with pubK to be decrypted by privK\n",
    "import random\n",
    "import math\n",
    "\n",
    "def gcd(a, b):\n",
    "    while b:\n",
    "        a, b = b, a % b\n",
    "    return a\n",
    "\n",
    "def generate_keypair(l):\n",
    "    p = random.getrandbits(l // 2) | (1 << l // 2 - 1)\n",
    "    q = random.getrandbits(l // 2) | (1 << l // 2 - 1)\n",
    "\n",
    "    n = p * q\n",
    "    phi = (p - 1) * (q - 1)\n",
    "\n",
    "    e = random.randint(2, phi - 1)\n",
    "    while math.gcd(e, phi) != 1:\n",
    "        e = random.randint(2, phi - 1)\n",
    "\n",
    "    d = 1\n",
    "    while True:\n",
    "        d += 1\n",
    "        if pow(e, d, phi) == 1:\n",
    "            break\n",
    "\n",
    "    return n, e, d\n",
    "\n",
    "l = 2048  # Security parameter l\n",
    "n, e, d = generate_keypair(l)\n",
    "print(f\"RSA public key: ({n}, {e})\")\n",
    "print(f\"RSA private key: ({d})\")\n",
    "\n",
    "def enc(pub, message):\n",
    "    return \n",
    "def dec(priv, message):\n",
    "    return\n",
    "\n"
   ]
  },
  {
   "cell_type": "code",
   "execution_count": null,
   "id": "1c0134a4",
   "metadata": {},
   "outputs": [],
   "source": []
  }
 ],
 "metadata": {
  "kernelspec": {
   "display_name": "Python 3 (ipykernel)",
   "language": "python",
   "name": "python3"
  },
  "language_info": {
   "codemirror_mode": {
    "name": "ipython",
    "version": 3
   },
   "file_extension": ".py",
   "mimetype": "text/x-python",
   "name": "python",
   "nbconvert_exporter": "python",
   "pygments_lexer": "ipython3",
   "version": "3.9.13"
  }
 },
 "nbformat": 4,
 "nbformat_minor": 5
}
